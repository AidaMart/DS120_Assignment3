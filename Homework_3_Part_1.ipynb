{
 "cells": [
  {
   "cell_type": "markdown",
   "metadata": {},
   "source": [
    "# Homework 3 Part 1"
   ]
  },
  {
   "cell_type": "markdown",
   "metadata": {},
   "source": [
    "Name: Aida\n",
    "\n",
    "Surname: Martirosyan"
   ]
  },
  {
   "cell_type": "markdown",
   "metadata": {},
   "source": [
    "**Problem 1**\n",
    "\n",
    "Create class Organization that is instantiated with country and type_ instance attributes and has a method get_details which prints all instance attributes of an instance of Organization as one string, seperating them by spaces. Create class University that is instantiated with  instance attributes uni_name, uni_city, and uni_rank and inherits Organization class. University class must also instantiate Organization class with arguments \"Armenia\" and \"unversity\" during its instantiation. Create an instance of University class with arguments \"AUA\", \"Yerevan\", and 1 and call get_details method of the instance."
   ]
  },
  {
   "cell_type": "code",
   "execution_count": 52,
   "metadata": {},
   "outputs": [],
   "source": [
    "class Organization:\n",
    "    def __init__(self, country, type_instance):\n",
    "        self.country = country\n",
    "        self.type_instance = type_instance\n",
    "    def get_details(self):\n",
    "        print(f\"{self.country} {self.type_instance}\")"
   ]
  },
  {
   "cell_type": "code",
   "execution_count": 53,
   "metadata": {},
   "outputs": [],
   "source": [
    "class University(Organization):\n",
    "    def __init__(self, country, type_instance, uni_name, uni_city, uni_rank):\n",
    "        super().__init__(country, type_instance)\n",
    "        self.uni_name = uni_name\n",
    "        self.uni_city = uni_city\n",
    "        self.uni_rank = uni_rank\n",
    "        "
   ]
  },
  {
   "cell_type": "code",
   "execution_count": 54,
   "metadata": {},
   "outputs": [],
   "source": [
    "uni = University(\"Armenia\", \"university\", \"AUA\", \"Yerevan\", 1)"
   ]
  },
  {
   "cell_type": "code",
   "execution_count": 55,
   "metadata": {},
   "outputs": [
    {
     "name": "stdout",
     "output_type": "stream",
     "text": [
      "Armenia university\n"
     ]
    }
   ],
   "source": [
    "uni.get_details()"
   ]
  },
  {
   "cell_type": "markdown",
   "metadata": {},
   "source": [
    "**Problem 2**\n",
    "\n",
    "Below is given class Student with data attribute uni. Check whether class Student has attribute uni, get the attribute, change it to \"YSU\", get it again to make sure you changed it, delete the attribute and try to get the attribute again (no worries if you get an error in the last step). You must use hasattr, getattr, setattr and delattr functions."
   ]
  },
  {
   "cell_type": "code",
   "execution_count": 10,
   "metadata": {},
   "outputs": [],
   "source": [
    "class Student:\n",
    "    uni=\"AUA\""
   ]
  },
  {
   "cell_type": "code",
   "execution_count": 11,
   "metadata": {},
   "outputs": [
    {
     "name": "stdout",
     "output_type": "stream",
     "text": [
      "True\n",
      "AUA\n"
     ]
    }
   ],
   "source": [
    "print(hasattr(Student, \"uni\"))\n",
    "print(getattr(Student, \"uni\"))\n",
    "setattr(Student, \"uni\", \"YSU\")"
   ]
  },
  {
   "cell_type": "code",
   "execution_count": 12,
   "metadata": {},
   "outputs": [
    {
     "name": "stdout",
     "output_type": "stream",
     "text": [
      "YSU\n"
     ]
    }
   ],
   "source": [
    "print(getattr(Student, \"uni\"))"
   ]
  },
  {
   "cell_type": "code",
   "execution_count": 13,
   "metadata": {},
   "outputs": [],
   "source": [
    "delattr(Student, \"uni\")"
   ]
  },
  {
   "cell_type": "code",
   "execution_count": 14,
   "metadata": {},
   "outputs": [
    {
     "ename": "AttributeError",
     "evalue": "type object 'Student' has no attribute 'uni'",
     "output_type": "error",
     "traceback": [
      "\u001b[1;31m---------------------------------------------------------------------------\u001b[0m",
      "\u001b[1;31mAttributeError\u001b[0m                            Traceback (most recent call last)",
      "\u001b[1;32m<ipython-input-14-22ccb776edd1>\u001b[0m in \u001b[0;36m<module>\u001b[1;34m\u001b[0m\n\u001b[1;32m----> 1\u001b[1;33m \u001b[0mprint\u001b[0m\u001b[1;33m(\u001b[0m\u001b[0mgetattr\u001b[0m\u001b[1;33m(\u001b[0m\u001b[0mStudent\u001b[0m\u001b[1;33m,\u001b[0m \u001b[1;34m\"uni\"\u001b[0m\u001b[1;33m)\u001b[0m\u001b[1;33m)\u001b[0m\u001b[1;33m\u001b[0m\u001b[1;33m\u001b[0m\u001b[0m\n\u001b[0m",
      "\u001b[1;31mAttributeError\u001b[0m: type object 'Student' has no attribute 'uni'"
     ]
    }
   ],
   "source": [
    "print(getattr(Student, \"uni\"))"
   ]
  },
  {
   "cell_type": "markdown",
   "metadata": {},
   "source": [
    "***Problem 3:*** \n",
    "\n",
    "Do below operations on list ls with special methods that are called in reality when you call below functions:"
   ]
  },
  {
   "cell_type": "code",
   "execution_count": 56,
   "metadata": {},
   "outputs": [],
   "source": [
    "ls = [1, 2, 3]"
   ]
  },
  {
   "cell_type": "code",
   "execution_count": 57,
   "metadata": {},
   "outputs": [
    {
     "data": {
      "text/plain": [
       "3"
      ]
     },
     "execution_count": 57,
     "metadata": {},
     "output_type": "execute_result"
    }
   ],
   "source": [
    "# a\n",
    "len(ls)"
   ]
  },
  {
   "cell_type": "code",
   "execution_count": 58,
   "metadata": {},
   "outputs": [
    {
     "name": "stdout",
     "output_type": "stream",
     "text": [
      "[1, 2, 3]\n"
     ]
    }
   ],
   "source": [
    "# c\n",
    "print(ls)"
   ]
  },
  {
   "cell_type": "code",
   "execution_count": 60,
   "metadata": {},
   "outputs": [
    {
     "data": {
      "text/plain": [
       "3"
      ]
     },
     "execution_count": 60,
     "metadata": {},
     "output_type": "execute_result"
    }
   ],
   "source": [
    "ls.__len__()"
   ]
  },
  {
   "cell_type": "code",
   "execution_count": null,
   "metadata": {},
   "outputs": [],
   "source": [
    "def __len__(self):\n",
    "    return self"
   ]
  },
  {
   "cell_type": "code",
   "execution_count": 62,
   "metadata": {},
   "outputs": [
    {
     "data": {
      "text/plain": [
       "'[1, 2, 3]'"
      ]
     },
     "execution_count": 62,
     "metadata": {},
     "output_type": "execute_result"
    }
   ],
   "source": [
    "ls.__str__()"
   ]
  },
  {
   "cell_type": "markdown",
   "metadata": {},
   "source": [
    "**Problem 4**\n",
    "\n",
    "Create a class called \"bank\" that has  private \"\\__funds\" attribute, protected \"_get_funds\" method that prints the value of the \"\\__funds\" attribute and a public \"interest\" method that increases the value of \"\\__funds\" attribute by 10 percent.\n",
    "Create an instance of bank class, set a value of \"\\__funds\" attribute to infinity (with float(\"inf\")) and print it using \"_get_funds\" method."
   ]
  },
  {
   "cell_type": "code",
   "execution_count": 76,
   "metadata": {},
   "outputs": [],
   "source": [
    "class Bank:\n",
    "    __funds = float(\"inf\")\n",
    "    def _get_funds(self):\n",
    "        print(self.__funds)\n",
    "    def interest(self):\n",
    "        self.__funds *= 1.1\n",
    "    "
   ]
  },
  {
   "cell_type": "code",
   "execution_count": 77,
   "metadata": {},
   "outputs": [],
   "source": [
    "b1 = Bank()"
   ]
  },
  {
   "cell_type": "code",
   "execution_count": 78,
   "metadata": {},
   "outputs": [
    {
     "name": "stdout",
     "output_type": "stream",
     "text": [
      "inf\n"
     ]
    }
   ],
   "source": [
    "b1._get_funds()"
   ]
  },
  {
   "cell_type": "markdown",
   "metadata": {},
   "source": [
    "**Problem 5**\n",
    "\n",
    "Create class fraction that is being instantiated with instance arguments \"numerator\" and \"denominator\". The instances of this class represent fractions. Overload oeprators +,-,*, and / for the instances of this class in a way that those operations will return a string that represents the fraction obtained from performing the corresponding operation on the two instances of the class(two fractions).\n",
    "\n",
    "Examples:  \n",
    "\n",
    "s1=fraction(3,4)\n",
    "\n",
    "s2=fraction(1,2)\n",
    "\n",
    "\\#3/4+1/2 = 5/4\n",
    "<br>\n",
    "s1+s2\n",
    "<br>\n",
    "Output: \"5/4\"\n",
    "\n",
    "\\#3/4\\*1/2 = 3/8 \n",
    "<br>\n",
    "s1*s2\n",
    "<br>\n",
    "Output: \"3/8\"\n",
    "\n",
    "Restriction: Do not import any modules."
   ]
  },
  {
   "cell_type": "code",
   "execution_count": 123,
   "metadata": {},
   "outputs": [],
   "source": [
    "def gcd(a, b):\n",
    "    if (a == 0):\n",
    "        return b;\n",
    "    return gcd(b % a, a)"
   ]
  },
  {
   "cell_type": "code",
   "execution_count": 159,
   "metadata": {},
   "outputs": [],
   "source": [
    " class fraction:\n",
    "        def __init__(self, numerator, denominator):\n",
    "            self.numerator = numerator\n",
    "            self.denominator = denominator\n",
    "\n",
    "        def __add__(self, other):  \n",
    "            denominator = self.denominator * other.denominator\n",
    "            numerator = denominator//self.denominator * self.numerator + denominator//other.denominator * other.numerator\n",
    "            final_ = gcd(denominator, numerator)\n",
    "            return f\"{str(numerator//final_)}/{str(denominator//final_)}\"\n",
    "        \n",
    "        def __mul__(self, other):\n",
    "            denominator = self.denominator * other.denominator\n",
    "            numerator = self.numerator * other.numerator\n",
    "            final_ = gcd(denominator, numerator)\n",
    "            return f\"{str(numerator//final_)}/{str(denominator//final_)}\"\n",
    "        \n",
    "        def __truediv__(self, other):\n",
    "            denominator = self.denominator * other.numerator\n",
    "            numerator = self.numerator * other.denominator\n",
    "            final_ = gcd(denominator, numerator)\n",
    "            return f\"{str(numerator//final_)}/{str(denominator//final_)}\"\n",
    "        \n",
    "        def __sub__(self, other):\n",
    "            denominator = self.denominator * other.denominator\n",
    "            numerator = denominator//self.denominator * self.numerator - denominator//other.denominator * other.numerator\n",
    "            final_ = gcd(denominator, numerator)\n",
    "            return f\"{str(numerator//final_)}/{str(denominator//final_)}\""
   ]
  },
  {
   "cell_type": "code",
   "execution_count": 160,
   "metadata": {},
   "outputs": [],
   "source": [
    "s1 = fraction(3,4)\n",
    "s2 = fraction(1,2)"
   ]
  },
  {
   "cell_type": "code",
   "execution_count": 161,
   "metadata": {},
   "outputs": [
    {
     "data": {
      "text/plain": [
       "'5/4'"
      ]
     },
     "execution_count": 161,
     "metadata": {},
     "output_type": "execute_result"
    }
   ],
   "source": [
    "s1 + s2"
   ]
  },
  {
   "cell_type": "code",
   "execution_count": 162,
   "metadata": {},
   "outputs": [
    {
     "data": {
      "text/plain": [
       "'1/4'"
      ]
     },
     "execution_count": 162,
     "metadata": {},
     "output_type": "execute_result"
    }
   ],
   "source": [
    "s1 - s2"
   ]
  },
  {
   "cell_type": "code",
   "execution_count": 163,
   "metadata": {},
   "outputs": [
    {
     "data": {
      "text/plain": [
       "'3/8'"
      ]
     },
     "execution_count": 163,
     "metadata": {},
     "output_type": "execute_result"
    }
   ],
   "source": [
    "s1 * s2"
   ]
  },
  {
   "cell_type": "code",
   "execution_count": 164,
   "metadata": {},
   "outputs": [
    {
     "data": {
      "text/plain": [
       "'3/2'"
      ]
     },
     "execution_count": 164,
     "metadata": {},
     "output_type": "execute_result"
    }
   ],
   "source": [
    "s1 / s2"
   ]
  },
  {
   "cell_type": "markdown",
   "metadata": {},
   "source": [
    "**Problem 6**\n",
    "\n",
    "Below you are given class Progression which is the parent class of Arithmetic, Geometric and Fibonacci progression classes. Make the progression class an asbtract class where _advance method will be an abstract method. "
   ]
  },
  {
   "cell_type": "code",
   "execution_count": 1,
   "metadata": {},
   "outputs": [
    {
     "name": "stdout",
     "output_type": "stream",
     "text": [
      "Default progression:\n"
     ]
    },
    {
     "ename": "TypeError",
     "evalue": "Can't instantiate abstract class Progression with abstract methods _advance",
     "output_type": "error",
     "traceback": [
      "\u001b[1;31m---------------------------------------------------------------------------\u001b[0m",
      "\u001b[1;31mTypeError\u001b[0m                                 Traceback (most recent call last)",
      "\u001b[1;32m<ipython-input-1-edd93a6739f9>\u001b[0m in \u001b[0;36m<module>\u001b[1;34m\u001b[0m\n\u001b[0;32m     82\u001b[0m \u001b[1;32mif\u001b[0m \u001b[0m__name__\u001b[0m\u001b[1;33m==\u001b[0m \u001b[1;34m\"__main__\"\u001b[0m\u001b[1;33m:\u001b[0m\u001b[1;33m\u001b[0m\u001b[1;33m\u001b[0m\u001b[0m\n\u001b[0;32m     83\u001b[0m     \u001b[0mprint\u001b[0m\u001b[1;33m(\u001b[0m\u001b[1;34m\"Default progression:\"\u001b[0m\u001b[1;33m)\u001b[0m\u001b[1;33m\u001b[0m\u001b[1;33m\u001b[0m\u001b[0m\n\u001b[1;32m---> 84\u001b[1;33m     \u001b[0mProgression\u001b[0m\u001b[1;33m(\u001b[0m\u001b[1;33m)\u001b[0m\u001b[1;33m.\u001b[0m\u001b[0mprint_progression\u001b[0m\u001b[1;33m(\u001b[0m\u001b[1;36m10\u001b[0m\u001b[1;33m)\u001b[0m\u001b[1;33m\u001b[0m\u001b[1;33m\u001b[0m\u001b[0m\n\u001b[0m\u001b[0;32m     85\u001b[0m     \u001b[0mprint\u001b[0m\u001b[1;33m(\u001b[0m\u001b[1;34m\"Arithmetic progression with increment 5:\"\u001b[0m\u001b[1;33m)\u001b[0m\u001b[1;33m\u001b[0m\u001b[1;33m\u001b[0m\u001b[0m\n\u001b[0;32m     86\u001b[0m     \u001b[0mArithmeticProgression\u001b[0m\u001b[1;33m(\u001b[0m\u001b[1;36m5\u001b[0m\u001b[1;33m)\u001b[0m\u001b[1;33m.\u001b[0m\u001b[0mprint_progression\u001b[0m\u001b[1;33m(\u001b[0m\u001b[1;36m10\u001b[0m\u001b[1;33m)\u001b[0m\u001b[1;33m\u001b[0m\u001b[1;33m\u001b[0m\u001b[0m\n",
      "\u001b[1;31mTypeError\u001b[0m: Can't instantiate abstract class Progression with abstract methods _advance"
     ]
    }
   ],
   "source": [
    "from abc import ABCMeta, abstractmethod\n",
    "class Progression(metaclass=ABCMeta):\n",
    "    \"\"\"Iterator producing a generic progression.\n",
    "    Default iterator produces the whole numbers 0, 1, 2, ...\"\"\"\n",
    "\n",
    "    def __init__(self, start=0):\n",
    "        \"\"\"Initialize current to the first value of the progression.\"\"\"\n",
    "        self._current = start\n",
    "    \n",
    "    @abstractmethod\n",
    "    def _advance(self):\n",
    "        \"\"\"Update self._current to a new value.\n",
    "        This should be overridden by a subclass to customize progression.\n",
    "        By convention, if current is set to None, this designates the end of a finite progression.\"\"\"\n",
    "        pass\n",
    "        \n",
    "\n",
    "    def __next__(self):\n",
    "        \"\"\"Return the next element, or else raise StopIteration error.\"\"\"\n",
    "        if self._current is None: # our convention to end a progression\n",
    "            raise StopIteration()\n",
    "        else:\n",
    "            answer = self._current # record current value to return\n",
    "            self._advance() # advance to prepare for next time\n",
    "            return answer # return the answer\n",
    "        \n",
    "    def __iter__(self):\n",
    "        \"\"\"By convention, an iterator must return itself as an iterator.\"\"\"\n",
    "        return self\n",
    "\n",
    "    def print_progression(self, n):\n",
    "        \"\"\"Print next n values of the progression.\"\"\"\n",
    "        print(\" \".join(str(next(self)) for j in range(n)))\n",
    "\n",
    "\n",
    "class ArithmeticProgression(Progression): # inherit from Progression\n",
    "    \"\"\"Iterator producing an arithmetic progression.\"\"\"\n",
    "\n",
    "    def __init__(self, increment=1, start=0):\n",
    "        \"\"\"Create a new arithmetic progression.\n",
    "        increment the fixed constant to add to each term (default 1)\n",
    "        start the first term of the progression (default 0)\"\"\"\n",
    "        super().__init__(start) # initialize base class\n",
    "        self._increment = increment\n",
    "\n",
    "    def _advance(self): # override inherited version\n",
    "        \"\"\"Update current value by adding the fixed increment.\"\"\"\n",
    "        self._current += self._increment\n",
    "\n",
    "\n",
    "class GeometricProgression(Progression): # inherit from Progression\n",
    "    \"\"\"Iterator producing a geometric progression.\"\"\"\n",
    "    \n",
    "    def __init__(self, base=2, start=1):\n",
    "        \"\"\"Create a new geometric progression.\n",
    "        base the fixed constant multiplied to each term (default 2)\n",
    "        start the first term of the progression (default 1)\n",
    "        \"\"\"\n",
    "        super().__init__(start)\n",
    "        self._base = base\n",
    "\n",
    "    def _advance(self): # override inherited version\n",
    "        \"\"\"Update current value by multiplying it by the base value.\"\"\"\n",
    "        self._current *= self._base\n",
    "\n",
    "\n",
    "class FibonacciProgression(Progression):\n",
    "    \"\"\"Iterator producing a generalized Fibonacci progression.\"\"\"\n",
    "\n",
    "    def __init__(self, first=0, second=1):\n",
    "        \"\"\"Create a new fibonacci progression.\n",
    "        first the first term of the progression (default 0)\n",
    "        second the second term of the progression (default 1)\n",
    "        \"\"\"\n",
    "        super().__init__(first) # start progression at first\n",
    "        self._prev = second - first # fictitious value preceding the first\n",
    "\n",
    "    def _advance(self):\n",
    "        \"\"\"Update current value by taking sum of previous two.\"\"\"\n",
    "        self._prev, self._current = self._current, self._prev + self._current\n",
    "\n",
    "if __name__== \"__main__\":\n",
    "    print(\"Default progression:\")\n",
    "    Progression().print_progression(10)\n",
    "    print(\"Arithmetic progression with increment 5:\")\n",
    "    ArithmeticProgression(5).print_progression(10)\n",
    "    print(\"Arithmetic progression with increment 5 and start 2:\")\n",
    "    ArithmeticProgression(5,2).print_progression(10)\n",
    "    print(\"Geometric progression with default base:\")\n",
    "    GeometricProgression().print_progression(10)\n",
    "    print(\"Geometric progression with base 3: \")\n",
    "    GeometricProgression(3).print_progression(10)\n",
    "    print(\"Fibonacci progression with default start values:\")\n",
    "    FibonacciProgression().print_progression(10)\n",
    "    print(\"Fibonacci progression with start values 4 and 6:\")\n",
    "    FibonacciProgression(4,6).print_progression(10)"
   ]
  },
  {
   "cell_type": "markdown",
   "metadata": {
    "id": "upZnrIMG2pbb"
   },
   "source": [
    "**Problem 7**\n",
    "\n",
    "Create class \"triangle\" which is instantiated with 3 arguments representing the lengths of the sides of the triangle.<br>\n",
    "\"triangle\" class has two methods, \"area\" and \"perimeter\" which correspondingly return the area and the perimeter of the triangle.<br>\n",
    "Create classes \"isosceles\" and \"right_trigangle\" which inherit \"triangle\" class.<br>\n",
    "\"isosceles\" class is instantiated with two arguments, base and side which correspond to base and side of isosceles.\n",
    "\"right_triangle\" class is instantiated with two arguments, one of which is the length of hypotenuse and the other parameter is the length of one of the sides. Create two instances of \"isosceles\" and \"right_triangle\" classes (one for each of them) and calculate area and perimeter of these instances.\n",
    "\n",
    "**Restriction:** \"area\" and \"perimeter\" methods of \"triangle\" class should not be overriden by a child class  and should work universally for all child classes."
   ]
  },
  {
   "cell_type": "code",
   "execution_count": 121,
   "metadata": {},
   "outputs": [],
   "source": [
    "import math"
   ]
  },
  {
   "cell_type": "code",
   "execution_count": 122,
   "metadata": {
    "id": "OvLESHs_y6PX"
   },
   "outputs": [],
   "source": [
    "class triangle:\n",
    "    def __init__(self, s1, s2, s3):\n",
    "        self.s1 = s1\n",
    "        self.s2 = s2\n",
    "        self.s3 = s3\n",
    "        \n",
    "    def perimeter(self):\n",
    "        return self.s1 + self.s2 + self.s3\n",
    "   \n",
    "    def area(self):\n",
    "        semi_perimeter = (self.s1 + self.s2 + self.s3)/2\n",
    "        return math.sqrt(semi_perimeter * (semi_perimeter - self.s1) * (semi_perimeter - self.s2) * (semi_perimeter - self.s3))\n",
    "   \n",
    "    \n",
    "class isosceles(triangle):\n",
    "    def __init__(self, base, side):\n",
    "        self.s1 = base\n",
    "        self.s2 = side\n",
    "        self.s3 = side\n",
    "        \n",
    "class right_triangle(triangle):\n",
    "    def __init__(self, len_hyp, len_side):\n",
    "        self.s1 = len_hyp\n",
    "        self.s2 = len_side\n",
    "        self.s3 = math.sqrt(len_hyp**2 - len_side**2)\n",
    "        "
   ]
  },
  {
   "cell_type": "code",
   "execution_count": 128,
   "metadata": {},
   "outputs": [],
   "source": [
    "i1 = isosceles(8, 5)\n",
    "i2 = right_triangle(13, 12)"
   ]
  },
  {
   "cell_type": "code",
   "execution_count": 129,
   "metadata": {},
   "outputs": [
    {
     "name": "stdout",
     "output_type": "stream",
     "text": [
      "18\n",
      "12.0\n"
     ]
    }
   ],
   "source": [
    "print(i1.perimeter())\n",
    "print(i1.area())"
   ]
  },
  {
   "cell_type": "code",
   "execution_count": 130,
   "metadata": {},
   "outputs": [
    {
     "name": "stdout",
     "output_type": "stream",
     "text": [
      "30.0\n",
      "30.0\n"
     ]
    }
   ],
   "source": [
    "print(i2.perimeter())\n",
    "print(i2.area())"
   ]
  },
  {
   "cell_type": "markdown",
   "metadata": {},
   "source": [
    "# RegEx"
   ]
  },
  {
   "cell_type": "code",
   "execution_count": 1,
   "metadata": {},
   "outputs": [],
   "source": [
    "import re"
   ]
  },
  {
   "cell_type": "markdown",
   "metadata": {},
   "source": [
    "**Problem 8**\n",
    "\n",
    "Write a regex pattern to match all words in the sentence not including the whitespaces."
   ]
  },
  {
   "cell_type": "code",
   "execution_count": 132,
   "metadata": {},
   "outputs": [],
   "source": [
    "pattern = r\"[^\\s]+\" "
   ]
  },
  {
   "cell_type": "code",
   "execution_count": 133,
   "metadata": {},
   "outputs": [
    {
     "data": {
      "text/plain": [
       "['Data', 'Science', 'is', 'cool!']"
      ]
     },
     "execution_count": 133,
     "metadata": {},
     "output_type": "execute_result"
    }
   ],
   "source": [
    "re.findall(pattern, \" Data Science \\n is cool! \\t\")"
   ]
  },
  {
   "cell_type": "markdown",
   "metadata": {},
   "source": [
    "**Problem 9**\n",
    "\n",
    "Write a regex to check whether the given string is possible to convert into float type using float() function. There are  3 possible cases; examples: \"8.3\",\".6\",\"5.\")."
   ]
  },
  {
   "cell_type": "code",
   "execution_count": 35,
   "metadata": {},
   "outputs": [
    {
     "name": "stdout",
     "output_type": "stream",
     "text": [
      "True\n"
     ]
    }
   ],
   "source": [
    "if re.fullmatch(r\"\\s*[0-9]*\\.?[0-9]*\\s*\", \"5.\"):\n",
    "    print(True)\n",
    "else:\n",
    "    print(False)"
   ]
  },
  {
   "cell_type": "markdown",
   "metadata": {},
   "source": [
    "**Problem 10**\n",
    "\n",
    "Given an integer in string format use regex to check if the number is odd."
   ]
  },
  {
   "cell_type": "code",
   "execution_count": 2,
   "metadata": {},
   "outputs": [
    {
     "data": {
      "text/plain": [
       "<re.Match object; span=(0, 3), match='687'>"
      ]
     },
     "execution_count": 2,
     "metadata": {},
     "output_type": "execute_result"
    }
   ],
   "source": [
    "pattern = r\"^(-?[0-9]+[13579]|-?[13579])$\"\n",
    "string = \"687\"\n",
    "re.match(pattern, string)"
   ]
  },
  {
   "cell_type": "markdown",
   "metadata": {},
   "source": [
    "**Example solution for Problems 11 and 12**\n",
    "\n",
    "It is time to solve regex crossword. Below is a solved example with vertical and horizontal views.\n",
    "![example](pics\\solved_example.jpg)\n",
    "![example](pics\\solved_example_v.jpg)\n",
    "\n",
    "Both left and right patterns match the whole row from left to right, and both above and below patterns match the whole column from top to down. "
   ]
  },
  {
   "cell_type": "markdown",
   "metadata": {},
   "source": [
    "**Problem 11**\n",
    "\n",
    "Solve the following regex crossword presented in horizontal(first pic) and  vertical(second pic) views:\n",
    "![example](pics\\crossword1h.png)\n",
    "![example](pics\\crossword1v.png) "
   ]
  },
  {
   "cell_type": "code",
   "execution_count": 56,
   "metadata": {},
   "outputs": [
    {
     "data": {
      "text/plain": [
       "array([['G', 'P', 'O'],\n",
       "       ['Z', 'K', 'S']], dtype='<U1')"
      ]
     },
     "execution_count": 56,
     "metadata": {},
     "output_type": "execute_result"
    }
   ],
   "source": [
    "# Solution based on horizontal view. Fill quotes with correct letters.\n",
    "import numpy as np\n",
    "a = np.zeros((2,3),dtype=str)\n",
    "a[0,0]=\"G\"\n",
    "a[0,1]=\"P\"\n",
    "a[0,2]=\"O\"\n",
    "a[1,0]=\"Z\"\n",
    "a[1,1]=\"K\"\n",
    "a[1,2]=\"S\"\n",
    "a"
   ]
  },
  {
   "cell_type": "markdown",
   "metadata": {},
   "source": [
    "**Problem 12**\n",
    "\n",
    "Solve the following regex crossword presented in horizontal(first pic) and  vertical(second pic) views:\n",
    "![example](pics\\crossword2h.jpg)\n",
    "![example](pics\\crossword2v.jpg) "
   ]
  },
  {
   "cell_type": "code",
   "execution_count": 57,
   "metadata": {},
   "outputs": [
    {
     "data": {
      "text/plain": [
       "array([['N', 'N', 'M'],\n",
       "       ['O', 'I', 'U'],\n",
       "       ['L', 'D', 'I']], dtype='<U1')"
      ]
     },
     "execution_count": 57,
     "metadata": {},
     "output_type": "execute_result"
    }
   ],
   "source": [
    "# Solution based on horizontal view. Fill quotes with correct letters.\n",
    "import numpy as np\n",
    "a = np.zeros((3,3),dtype=str)\n",
    "a[0,0]=\"N\"\n",
    "a[0,1]=\"N\"\n",
    "a[0,2]=\"M\"\n",
    "a[1,0]=\"O\"\n",
    "a[1,1]=\"I\"\n",
    "a[1,2]=\"U\"\n",
    "a[2,0]=\"L\"\n",
    "a[2,1]=\"D\"\n",
    "a[2,2]=\"I\"\n",
    "a"
   ]
  },
  {
   "cell_type": "markdown",
   "metadata": {},
   "source": [
    "# END"
   ]
  }
 ],
 "metadata": {
  "kernelspec": {
   "display_name": "Python 3",
   "language": "python",
   "name": "python3"
  },
  "language_info": {
   "codemirror_mode": {
    "name": "ipython",
    "version": 3
   },
   "file_extension": ".py",
   "mimetype": "text/x-python",
   "name": "python",
   "nbconvert_exporter": "python",
   "pygments_lexer": "ipython3",
   "version": "3.8.5"
  }
 },
 "nbformat": 4,
 "nbformat_minor": 5
}
